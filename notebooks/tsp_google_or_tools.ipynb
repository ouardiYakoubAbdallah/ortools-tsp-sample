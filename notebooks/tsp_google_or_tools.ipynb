{
  "nbformat": 4,
  "nbformat_minor": 0,
  "metadata": {
    "colab": {
      "name": "tsp_google_or_tools.ipynb",
      "provenance": [],
      "collapsed_sections": [],
      "toc_visible": true
    },
    "kernelspec": {
      "name": "python3",
      "display_name": "Python 3"
    },
    "language_info": {
      "name": "python"
    }
  },
  "cells": [
    {
      "cell_type": "markdown",
      "source": [
        "# Traveling Salesman Problem with Google OR Tools\n",
        "Solving the Traveling Salesman Problem (TSP) for the any locations on a map using Google OR Tools.\n",
        "\n",
        "The same code can be implemented in: \n",
        "- C++\n",
        "- Java\n",
        "- C#"
      ],
      "metadata": {
        "id": "M32tKGR-Azwc"
      }
    },
    {
      "cell_type": "markdown",
      "source": [
        "  - ### Install & import requirements\n",
        "1.   OR-Tools for Python\n",
        "\n",
        "\n",
        "\n",
        "\n",
        "\n"
      ],
      "metadata": {
        "id": "numVhTB_loK3"
      }
    },
    {
      "cell_type": "code",
      "source": [
        "!python3 -m pip install ortools"
      ],
      "metadata": {
        "colab": {
          "base_uri": "https://localhost:8080/"
        },
        "id": "cfEpiU-Qlk9U",
        "outputId": "cd14dd53-b921-4d69-8519-504d731b7e21"
      },
      "execution_count": 34,
      "outputs": [
        {
          "output_type": "stream",
          "name": "stdout",
          "text": [
            "Requirement already satisfied: ortools in /usr/local/lib/python3.7/dist-packages (9.2.9972)\n",
            "Requirement already satisfied: protobuf>=3.19.1 in /usr/local/lib/python3.7/dist-packages (from ortools) (3.19.1)\n",
            "Requirement already satisfied: absl-py>=0.13 in /usr/local/lib/python3.7/dist-packages (from ortools) (1.0.0)\n",
            "Requirement already satisfied: numpy>=1.13.3 in /usr/local/lib/python3.7/dist-packages (from ortools) (1.19.5)\n",
            "Requirement already satisfied: six in /usr/local/lib/python3.7/dist-packages (from absl-py>=0.13->ortools) (1.15.0)\n"
          ]
        }
      ]
    },
    {
      "cell_type": "code",
      "source": [
        "from ortools.constraint_solver import pywrapcp\n",
        "from ortools.constraint_solver import routing_enums_pb2"
      ],
      "metadata": {
        "id": "qvjpqCItnhfQ"
      },
      "execution_count": 35,
      "outputs": []
    },
    {
      "cell_type": "markdown",
      "source": [
        "\n",
        "\n",
        "- ###    Create initial data\n",
        "\n",
        "The distance matrix is an array whose i, j entry is the distance from location i to location j in KM, where the array indices correspond to the locations in the following order:\n",
        "\n",
        "***0-Saïda, 1-Algiers, 2-Boumerdes, 3-Oran, 4-Djelfa, 5-Béchar, 6-Ghardaïa***\n",
        "\n",
        "\n"
      ],
      "metadata": {
        "id": "E6og9LfVBlxT"
      }
    },
    {
      "cell_type": "code",
      "execution_count": 36,
      "metadata": {
        "id": "aXSS6tlZAynS"
      },
      "outputs": [],
      "source": [
        "def create_data_model():\n",
        "    \"\"\"Stores the data for the problem.\"\"\"\n",
        "    data = {}\n",
        "    data['distance_matrix'] = [\n",
        "        [0, 460, 488, 175, 401, 515, 552],\n",
        "        [460, 0, 46, 422, 305, 1021, 607],\n",
        "        [488, 46, 0, 449, 332, 1049, 635],\n",
        "        [175, 422, 446, 0, 608, 672, 666],\n",
        "        [401, 305, 332, 608, 0, 663, 727],\n",
        "        [515, 1021, 1049, 672, 663, 0, 790],\n",
        "        [552, 607, 635, 666, 727, 790, 0],\n",
        "    ] \n",
        "    data['num_vehicles'] = 1 # always = 1\n",
        "    data['depot'] = 3 # The depot: the start and end location for the route.\n",
        "    return data"
      ]
    },
    {
      "cell_type": "markdown",
      "source": [
        "- ### Create the routing model\n",
        "\n",
        "The inputs to ***`RoutingIndexManager`*** are:\n",
        "\n",
        "- The number of rows of the distance matrix, which is the number of locations (including the depot).\n",
        "- The number of vehicles in the problem.\n",
        "- The node corresponding to the depot."
      ],
      "metadata": {
        "id": "vD-SJyrfK7Xx"
      }
    },
    {
      "cell_type": "code",
      "source": [
        "data = create_data_model()\n",
        "manager = pywrapcp.RoutingIndexManager(\n",
        "    len(data['distance_matrix']),\n",
        "    data['num_vehicles'], \n",
        "    data['depot']\n",
        "  )\n",
        "  \n",
        "routing = pywrapcp.RoutingModel(manager)"
      ],
      "metadata": {
        "id": "2knerJ-8Li93"
      },
      "execution_count": 37,
      "outputs": []
    },
    {
      "cell_type": "markdown",
      "source": [
        "- ### Create the distance callback :\n",
        "\n",
        "A function that takes any pair of locations and returns the distance between them. The easiest way to do this is using the distance matrix.\n"
      ],
      "metadata": {
        "id": "jgr9mVZfMErL"
      }
    },
    {
      "cell_type": "code",
      "source": [
        "def distance_callback(from_index, to_index):\n",
        "    \"\"\"Returns the distance between the two nodes.\"\"\"\n",
        "    # Convert from routing variable Index to distance matrix NodeIndex.\n",
        "    from_node = manager.IndexToNode(from_index)\n",
        "    to_node = manager.IndexToNode(to_index)\n",
        "    return data['distance_matrix'][from_node][to_node]\n"
      ],
      "metadata": {
        "id": "E9LUwm3FMFFX"
      },
      "execution_count": 38,
      "outputs": []
    },
    {
      "cell_type": "markdown",
      "source": [
        "The previous function creates the callback, we register it with the solver as ***`transit_callback_index`***.\n",
        "\n"
      ],
      "metadata": {
        "id": "4omAEvoCMsXT"
      }
    },
    {
      "cell_type": "code",
      "source": [
        "transit_callback_index = routing.RegisterTransitCallback(distance_callback)\n"
      ],
      "metadata": {
        "id": "0mKpaRyJMkbx"
      },
      "execution_count": 39,
      "outputs": []
    },
    {
      "cell_type": "markdown",
      "source": [
        "- ### Specify the cost of travel\n",
        "\n",
        "The arc cost evaluator tells the solver how to calculate the cost of travel between any two locations—in other words, the cost of the edge (or arc) joining them in the graph for the problem. \n",
        "\n",
        "In this example, the arc cost evaluator will be the transit_callback_index, which is the solver's internal reference to the distance callback. This means that the cost of travel between any two locations is just the distance between them. However, in general the costs can involve other factors as well.\n"
      ],
      "metadata": {
        "id": "NU48D85WM_ai"
      }
    },
    {
      "cell_type": "code",
      "source": [
        "routing.SetArcCostEvaluatorOfAllVehicles(transit_callback_index)\n"
      ],
      "metadata": {
        "id": "1OnIv2H4M8b_"
      },
      "execution_count": 40,
      "outputs": []
    },
    {
      "cell_type": "markdown",
      "source": [
        "- ### Set search parameters\n",
        "\n",
        "Sets the default search parameters and a heuristic method for finding the first solution... See [First Solution Strategy](https://developers.google.com/optimization/routing/routing_options#first_sol_options)\n",
        "\n",
        "\n"
      ],
      "metadata": {
        "id": "dnuhf-rDiFG9"
      }
    },
    {
      "cell_type": "code",
      "source": [
        "search_parameters = pywrapcp.DefaultRoutingSearchParameters()\n",
        "search_parameters.first_solution_strategy = (\n",
        "    routing_enums_pb2.FirstSolutionStrategy.PATH_CHEAPEST_ARC\n",
        "    )"
      ],
      "metadata": {
        "id": "2lW2AbZyiFhw"
      },
      "execution_count": 41,
      "outputs": []
    },
    {
      "cell_type": "markdown",
      "source": [
        "- ## Test and desplay solutions"
      ],
      "metadata": {
        "id": "gM9OPg8_juPh"
      }
    },
    {
      "cell_type": "code",
      "source": [
        "\"\"\"Solve\"\"\"\n",
        "solution = routing.SolveWithParameters(search_parameters)\n",
        "\n",
        "\"\"\"Prints solution on console.\"\"\"\n",
        "index = routing.Start(0)\n",
        "plan_output = 'Optimal Route :\\n'\n",
        "route_distance = 0\n",
        "while not routing.IsEnd(index):\n",
        "    plan_output += ' {} ->'.format(manager.IndexToNode(index))\n",
        "    previous_index = index\n",
        "    index = solution.Value(routing.NextVar(index))\n",
        "    route_distance += routing.GetArcCostForVehicle(previous_index, index, 0)\n",
        "plan_output += ' {}\\n'.format(manager.IndexToNode(index))\n",
        "print(plan_output)\n",
        "print('Route distance: {}kilometers\\n'.format(route_distance))"
      ],
      "metadata": {
        "colab": {
          "base_uri": "https://localhost:8080/"
        },
        "id": "NaXX_kwRjryo",
        "outputId": "8cefc96c-863d-466e-a229-51a4fd60e8af"
      },
      "execution_count": 47,
      "outputs": [
        {
          "output_type": "stream",
          "name": "stdout",
          "text": [
            "Optimal Route :\n",
            " 3 -> 0 -> 6 -> 5 -> 4 -> 2 -> 1 -> 3\n",
            "\n",
            "Route distance: 2980kilometers\n",
            "\n"
          ]
        }
      ]
    }
  ]
}